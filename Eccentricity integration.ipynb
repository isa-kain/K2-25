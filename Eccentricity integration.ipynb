{
 "cells": [
  {
   "cell_type": "code",
   "execution_count": 1,
   "metadata": {},
   "outputs": [],
   "source": [
    "import numpy as np\n",
    "import scipy.integrate as integrate\n",
    "import matplotlib.pyplot as plt"
   ]
  },
  {
   "cell_type": "code",
   "execution_count": 38,
   "metadata": {},
   "outputs": [],
   "source": [
    "## Conversion factors\n",
    "Mearth =  5.9723*10.**24 #kg\n",
    "Msun = 1.9885*10.**30\n",
    "Mjup = 1.89819*10**27\n",
    "Rearth = 6371000. #m \n",
    "Rjup = 69911000. \n",
    "Rsun = 695700000.\n",
    "sec2Myr = 60.*60.*24.*365.25*10.**6\n",
    "au2meters = 149597870700.\n",
    "\n",
    "## Set parameters\n",
    "G = 6.674*10.**-11.   #N·m2/kg2  >>  N: kg·m/s2\n",
    "Mplanet = 0.471*Mjup #14.9101619038*Mearth\n",
    "Mstar = 1.11*Msun #0.294*Msun\n",
    "Rplanet = 1.9*Rjup #0.1153068176418217*0.295*6.957*(10.**8)\n",
    "Rstar = 1.237*Rsun #0.295*Rsun\n",
    "Qplanet = 10**6.5 #10.**5\n",
    "Qstar = 10**5.  #10.**3 ##no idea if this is correct\n"
   ]
  },
  {
   "cell_type": "code",
   "execution_count": 45,
   "metadata": {},
   "outputs": [],
   "source": [
    "#jackson 2009\n",
    "\n",
    "ones_e = []\n",
    "twos_e = []\n",
    "threes_e = []\n",
    "fours_e = []\n",
    "\n",
    "def func_e(t, a, e):\n",
    "    \n",
    "    one = (63./4.)*np.sqrt(G*Mstar**3.) #5.48e+51 || 5.75e+40\n",
    "    two = Rplanet**5./(Qplanet*Mplanet) #833419.74 || 819404.8\n",
    "    three = (225./16.)*np.sqrt(G/Mstar) #1.50e-08 || 1.50e-19\n",
    "    four = (Rstar**5.*Mplanet)/Qstar #3.24e+64 || 3.24e+67\n",
    "    \n",
    "    global ones_e\n",
    "    ones_e.append(one)\n",
    "    global twos_e\n",
    "    twos_e.append(two)\n",
    "    global threes_e\n",
    "    threes_e.append(three)\n",
    "    global fours_e\n",
    "    fours_e.append(four)\n",
    "\n",
    "    ## all-in-one\n",
    "    return -e*(((63/4)*np.sqrt(G*Mstar**3)*(Rplanet**5/(Qplanet*Mplanet)) \\\n",
    "                +(225/16)*np.sqrt(G/Mstar)*(Rstar**5*Mplanet)/Qstar))*a**(-13/2)\n",
    "\n",
    "    ## bug check\n",
    "#     return -e*((one*two)+(three*four))*a**(-13/2)\n"
   ]
  },
  {
   "cell_type": "code",
   "execution_count": 46,
   "metadata": {},
   "outputs": [],
   "source": [
    "ones_a = []\n",
    "twos_a = []\n",
    "threes_a = []\n",
    "fours_a = []\n",
    "fives_a = []\n",
    "\n",
    "def func_a(t, a, e):\n",
    "    \n",
    "    one = (63./2)*np.sqrt(G*Mstar**3) #1.13e+52 || 1.15e+41\n",
    "    two = Rplanet**5./(Qplanet*Mplanet) #833419.74 || 819404.8\n",
    "    three = (9./2)*np.sqrt(G/Mstar) #4.27e-09 || 4.8e-20\n",
    "    four = (Rstar**5.*Mplanet)/Qstar #3.24e+64 || 3.24e+67\n",
    "    five = 1.+(57./4)*e**2. #2.49e+32 || 1.45\n",
    "    \n",
    "# 1.1507389817739342e+41\n",
    "# 833433.692408\n",
    "# 4.80744758819407e-20\n",
    "# 3.24223187451e+64\n",
    "# 1.44643825\n",
    "    \n",
    "    global ones_a\n",
    "    ones_a.append(one)\n",
    "    global twos_a\n",
    "    twos_a.append(two)\n",
    "    global threes_a\n",
    "    threes_a.append(three)\n",
    "    global fours_a\n",
    "    fours_a.append(four)\n",
    "    global fives_a\n",
    "    fives_a.append(five)\n",
    "    \n",
    "    ## all-in-one\n",
    "    #return -a\n",
    "    return -a*((63/2)*np.sqrt(G*Mstar**3)*(Rplanet**5/(Qplanet*Mplanet))*e**2 \\\n",
    "               +(9/2)*np.sqrt(G/Mstar)*((Rstar**5*Mplanet)/Qstar)*(1+(57/4)*e**2))*a**(-13/2)\n",
    "\n",
    "    ## bug check\n",
    "#     return -a*((one*two*e**2)+(three*four*five))*a**(-13/2)\n"
   ]
  },
  {
   "cell_type": "code",
   "execution_count": 47,
   "metadata": {},
   "outputs": [],
   "source": [
    "def fun(t, y):  # y = [a,e]\n",
    "#     print func_a(t, y[0], y[1])\n",
    "    return [func_a(t, y[0], y[1]), func_e(t, y[0], y[1])]  # returns dy/dt = [da/dt, de/dt]\n",
    "\n",
    "y_init = [0.0527*au2meters, 0.013] #a_init, e_init #######\n",
    "time = [0., 10**5*sec2Myr]\n",
    "sol = integrate.solve_ivp(fun, time, y_init)\n",
    "\n",
    "# print time"
   ]
  },
  {
   "cell_type": "code",
   "execution_count": 48,
   "metadata": {
    "scrolled": false
   },
   "outputs": [
    {
     "name": "stdout",
     "output_type": "stream",
     "text": [
      "[0.00000000e+00 1.00000000e-06 1.10000000e-05 1.11000000e-04\n",
      " 1.11100000e-03 1.11110000e-02 1.11111000e-01 1.11111100e+00\n",
      " 1.11111110e+01 1.11111111e+02 1.11111111e+03 1.11111111e+04\n",
      " 1.11111111e+05 1.11111111e+06 1.11111111e+07 1.11111111e+08\n",
      " 1.11111111e+09 1.11111111e+10 1.11111111e+11 1.11111111e+12\n",
      " 1.11111111e+13 1.11111111e+14 1.11111111e+15 1.11111111e+16\n",
      " 1.11111111e+17 1.11111111e+18 3.15576000e+18]\n",
      "0.0527\n"
     ]
    },
    {
     "data": {
      "image/png": "[encoded data removed]",
      "text/plain": [
       "<matplotlib.figure.Figure at 0x151ed1bc90>"
      ]
     },
     "metadata": {},
     "output_type": "display_data"
    }
   ],
   "source": [
    "print sol['t']\n",
    "plt.plot(sol['t']/(60.*60.*24.*365.25), sol['y'][0]/au2meters)\n",
    "plt.xscale('log')\n",
    "plt.xlim(1e6,1e11)\n",
    "print max(sol['y'][0]/au2meters)"
   ]
  },
  {
   "cell_type": "code",
   "execution_count": 49,
   "metadata": {},
   "outputs": [
    {
     "name": "stdout",
     "output_type": "stream",
     "text": [
      "8.438718815635412e+41\n",
      "14626317.2065\n",
      "2.4744650715385514e-20\n",
      "4.22006463959e+66\n",
      "1.00240825\n"
     ]
    }
   ],
   "source": [
    "print ones_a[0]\n",
    "print twos_a[0]\n",
    "print threes_a[0]\n",
    "print fours_a[0]\n",
    "print fives_a[0]"
   ]
  },
  {
   "cell_type": "code",
   "execution_count": 50,
   "metadata": {},
   "outputs": [
    {
     "data": {
      "text/plain": [
       "(1000000.0, 100000000000.0)"
      ]
     },
     "execution_count": 50,
     "metadata": {},
     "output_type": "execute_result"
    },
    {
     "data": {
      "image/png": "[encoded data removed]",
      "text/plain": [
       "<matplotlib.figure.Figure at 0x15229dc650>"
      ]
     },
     "metadata": {},
     "output_type": "display_data"
    }
   ],
   "source": [
    "plt.plot(sol['t']/(60.*60.*24.*365.25), sol['y'][1])\n",
    "plt.xscale('log')\n",
    "plt.xlim(1e6,1e11)"
   ]
  },
  {
   "cell_type": "code",
   "execution_count": null,
   "metadata": {},
   "outputs": [],
   "source": []
  }
 ],
 "metadata": {
  "kernelspec": {
   "display_name": "Python 2",
   "language": "python",
   "name": "python2"
  },
  "language_info": {
   "codemirror_mode": {
    "name": "ipython",
    "version": 2
   },
   "file_extension": ".py",
   "mimetype": "text/x-python",
   "name": "python",
   "nbconvert_exporter": "python",
   "pygments_lexer": "ipython2",
   "version": "2.7.14"
  }
 },
 "nbformat": 4,
 "nbformat_minor": 2
}
