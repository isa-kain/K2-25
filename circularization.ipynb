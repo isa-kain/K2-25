{
 "cells": [
  {
   "cell_type": "code",
   "execution_count": 2,
   "metadata": {},
   "outputs": [],
   "source": [
    "import numpy as np\n",
    "import math\n",
    "import matplotlib.pyplot as plt\n",
    "import matplotlib.mlab as mlab\n",
    "# import mr_forecast as mr\n",
    "%matplotlib inline"
   ]
  },
  {
   "cell_type": "code",
   "execution_count": 5,
   "metadata": {},
   "outputs": [
    {
     "name": "stdout",
     "output_type": "stream",
     "text": [
      "14.869661199174608 1.4116829558976747 1.4217507963804152\n",
      "8.880161668147078e+25\n",
      "8.430570612620925e+24\n",
      "8.49069575598382e+24\n"
     ]
    },
    {
     "data": {
      "image/png": "[encoded data removed]",
      "text/plain": [
       "<matplotlib.figure.Figure at 0x10e4d8ed0>"
      ]
     },
     "metadata": {},
     "output_type": "display_data"
    }
   ],
   "source": [
    "##~~~~~~~~~~~~~~~~~~~~~~~~~~~~~~~~~~~~~~~~~~~~~~~~##\n",
    "##          Estimate mass distribution            ##\n",
    "##~~~~~~~~~~~~~~~~~~~~~~~~~~~~~~~~~~~~~~~~~~~~~~~~##\n",
    "\n",
    "# Wolfgang and Rogers, since Kipping mass relation is weird\n",
    "\n",
    "# M/M⊕ = 2.7(R/R⊕)^1.3\n",
    "# scatter in mass of 1.9M⊕\n",
    "# centered @ (some number from andy) +-(some sigma)\n",
    "\n",
    "## define constants and conversion factors\n",
    "G = 6.673*(10**(-11))\n",
    "au2meters = 149597870691.00\n",
    "jrad = 66854000\n",
    "erad = 6371000.\n",
    "emass = 5.972*10**24.\n",
    "sunrad = 695700000. #m\n",
    "sunmass = 1.98847*10**30. #kg\n",
    "\n",
    "mstar = 0.294*1.989*(10**30)\n",
    "rstar = 0.295*6.957*(10**8)\n",
    "rcen = 0.1153068176418217*rstar/erad #mean radius of planet in earth radii\n",
    "a = 21.8*rstar #meters\n",
    "Q_p = 10**4\n",
    "Q_s = 10**15 ## what is this value actually\n",
    "# Qp is a dimensionless parameter\n",
    "# related to the rate of energy dissipated per orbital period\n",
    "# by tidal forced oscillations (Barker & Ogilvie 2009). The\n",
    "# smaller Qp, the more efficient the tidal dissipation is.\n",
    "\n",
    "# Determining Q:\n",
    "# http://adsabs.harvard.edu/abs/2018ApJ...863..166V\n",
    "# http://adsabs.harvard.edu/abs/2008Icar..193..267Z\n",
    "# http://adsabs.harvard.edu/abs/2014IAUS..293..362R\n",
    "# http://iopscience.iop.org/article/10.1088/0004-637X/725/2/1995/meta#apj372139r66\n",
    "# http://iopscience.iop.org/article/10.1088/0004-637X/800/2/135/meta\n",
    "\n",
    "\n",
    "## create radius distribution from data, calculate likely mass distribution\n",
    "radii = np.random.normal(loc=rcen, scale=(0.0053*rstar/erad), size = 100000) \n",
    "ms = 2.7*(radii)**1.3\n",
    "\n",
    "## create gaussian distribution centered at mass calculated for radius distribution\n",
    "masses = np.random.normal(loc=ms, scale=1.9)\n",
    "mplanet = [np.percentile(masses, 50), np.percentile(masses, 25), np.percentile(masses, 75)]\n",
    "\n",
    "print mplanet[0], mplanet[0]-mplanet[1], mplanet[2]-mplanet[0]\n",
    "\n",
    "## plot things\n",
    "plt.hist(masses, bins=np.linspace(min(masses), max(masses), num=25), color='g', alpha=.9)\n",
    "plt.axvline(mplanet[0], color='b', zorder=10, linestyle='--')\n",
    "plt.axvline(mplanet[1], color='c', zorder=10, linestyle=':')\n",
    "plt.axvline(mplanet[2], color='c', zorder=10, linestyle=':')\n",
    "plt.xlabel('Planet mass (m_earth)')\n",
    "plt.ylabel('Frequency')\n",
    "plt.title('Planet Mass Distribution')\n",
    "plt.savefig('mass_dist.png')\n",
    "\n",
    "## convert values back into SI from earth units\n",
    "rcen = rcen*erad\n",
    "masses = masses*emass\n",
    "mplanet = [np.percentile(masses, 50), np.percentile(masses, 25), np.percentile(masses, 75)]\n",
    "\n",
    "# print mplanet[0]\n",
    "# print mplanet[0]-mplanet[1]\n",
    "# print mplanet[2]-mplanet[0]"
   ]
  },
  {
   "cell_type": "code",
   "execution_count": 8,
   "metadata": {},
   "outputs": [
    {
     "name": "stdout",
     "output_type": "stream",
     "text": [
      "[35.399145029059994, 3.3562122753705523, 3.336166683912694]\n"
     ]
    }
   ],
   "source": [
    "##~~~~~~~~~~~~~~~~~~~~~~~~~~~~~~~~~~~~~~~~~~~~~~~~##\n",
    "##      Calculate circularization timescale       ##\n",
    "##~~~~~~~~~~~~~~~~~~~~~~~~~~~~~~~~~~~~~~~~~~~~~~~~##\n",
    "# https://arxiv.org/pdf/1208.0237.pdf   EQUATION 2\n",
    "# http://citeseerx.ist.psu.edu/viewdoc/download?doi=10.1.1.890.4049&rep=rep1&type=pdf   EQUATION 25\n",
    "\n",
    "# masses = mass distribution\n",
    "# mplanet = percentiles of mass distribution\n",
    "# ms = masses directly calculated from radii distribution\n",
    "\n",
    "\n",
    "#~~~calculate timescale~~~\n",
    "timescale = []\n",
    "for mp in masses:\n",
    "    tcirc = ( (4./63.) * (Q_p*mp/(rcen**5.) * (1./np.sqrt(G*mstar**3.))) + (16./225.)*(1/np.sqrt(G*mstar))*(Q_s/(rstar**5*mp)))*a**(13./2.)\n",
    "    tcirc = tcirc/(86400.*365.*(10.**6.)) #convert from seconds to Myr\n",
    "    timescale.append(tcirc)\n",
    "# print 'main timescale:  ', timescale[:5]\n",
    "\n",
    "tc = [np.percentile(timescale, 50), np.percentile(timescale, 50)-np.percentile(timescale, 25), np.percentile(timescale, 75)-np.percentile(timescale, 50)]\n",
    "print tc"
   ]
  },
  {
   "cell_type": "code",
   "execution_count": 17,
   "metadata": {},
   "outputs": [
    {
     "name": "stdout",
     "output_type": "stream",
     "text": [
      "\n",
      " Part one: \n",
      "0.0634920634921\n",
      "1.0474135563727445e-07\n",
      "2.7375765198093222e-40\n",
      "5.36479750506e+62\n",
      "\n",
      " Part two: \n",
      "0.0711111111111\n",
      "1.600841671182818e-10\n",
      "3.533187498809604e-53\n"
     ]
    }
   ],
   "source": [
    "#~~~~DEBUGGING~~~\n",
    "print '\\n Part one: '\n",
    "print 4./63.\n",
    "print (Q_p*mp)/(rcen**5.)\n",
    "print 1./np.sqrt(G*mstar**3.)\n",
    "print a**(13./2.)\n",
    "\n",
    "print '\\n Part two: '\n",
    "print 16./225.\n",
    "print 1/np.sqrt(G*mstar)\n",
    "print Q_s/(rstar**5*mp)\n"
   ]
  },
  {
   "cell_type": "code",
   "execution_count": 18,
   "metadata": {
    "scrolled": false
   },
   "outputs": [
    {
     "data": {
      "image/png": "[encoded data removed]",
      "text/plain": [
       "<matplotlib.figure.Figure at 0x10dd7c590>"
      ]
     },
     "metadata": {},
     "output_type": "display_data"
    }
   ],
   "source": [
    "fig, ax = plt.subplots(nrows=1, ncols=1)\n",
    "\n",
    "ax.hist(np.array(timescale).flatten(), bins=np.linspace(np.min(timescale), np.max(timescale), num=25), alpha=.9)\n",
    "ax.axvline(tc[0], color='r', zorder=10, linestyle='--') #tcmean\n",
    "ax.axvline(tc[1], color='m', zorder=10, linestyle=':') #tclower\n",
    "ax.axvline(tc[2], color='m', zorder=10, linestyle=':') #tcupper\n",
    "\n",
    "\n",
    "## Comment in following to get transparent background & white axes and labels\n",
    "\n",
    "#plt.xlim(0,300)\n",
    "# ax.set_facecolor('None')\n",
    "# ax.spines['bottom'].set_color('white')\n",
    "# ax.spines['top'].set_color('white')\n",
    "# ax.spines['left'].set_color('white')\n",
    "# ax.spines['right'].set_color('white')\n",
    "# ax.xaxis.label.set_color('white')\n",
    "# ax.yaxis.label.set_color('white')\n",
    "# ax.title.set_color('white')\n",
    "# ax.tick_params(axis='x', colors='white')\n",
    "# ax.tick_params(axis='y', colors='white')\n",
    "\n",
    "\n",
    "plt.xlabel('Circularization Timescale (Myr)')\n",
    "plt.ylabel('Frequency')\n",
    "plt.title('Circularization Timescale Distribution:')\n",
    "plt.savefig('circtime_dist.png', transparent=True)"
   ]
  },
  {
   "cell_type": "code",
   "execution_count": 20,
   "metadata": {
    "scrolled": true
   },
   "outputs": [
    {
     "name": "stdout",
     "output_type": "stream",
     "text": [
      "72.14715324578889\n"
     ]
    }
   ],
   "source": [
    "##~~~~~~~~~~~~KEPLER 93b TEST ~~~~~~~~~~##\n",
    "au2meters = 149597870691.00\n",
    "erad = 6371000.\n",
    "emass = 5.972*10**24.\n",
    "sunrad = 695700000. #m\n",
    "sunmass = 1.98847*10**30. #kg\n",
    "\n",
    "rstar = 0.919*sunrad\n",
    "mstar = 0.91*sunmass\n",
    "rcen = 1.48*erad\n",
    "mp = 4.02*emass\n",
    "a = 0.053*au2meters\n",
    "Q_p = 100.\n",
    "Q_s = 10**7.\n",
    "\n",
    "# The expected circularization timescale for Kepler-93b is significantly shorter than \n",
    "# the 6.6 ± 0.9 Gyr age of the star (Ballard et al. 2014). Following Goldreich & Soter \n",
    "# (1966), we calculated a tidal circularization timescale of 75 Myr for a 4.02 M⊕, \n",
    "# 1.48 R⊕ planet in an orbit with a = 0.053 AU around a 0.91 M☉ star. We assumed \n",
    "# Q = 100 based on the tidal quality factors estimated for terrestrial planets in the \n",
    "# Solar System (Yoder 1995; Henning et al. 2009). \n",
    "# -- http://iopscience.iop.org/article/10.1088/0004-637X/800/2/135/meta\n",
    "##~~~~~~~~~~~~~~~~~~~~~~~~~~~~~~~~~~~~~~##\n",
    "\n",
    "Kepler93b_timescale = ( (4./63.) * (Q_p*mp/(rcen**5.) * (1./np.sqrt(G*mstar**3.))) + (16./225.)*(1/np.sqrt(G*mstar))*(Q_s/(rstar**5*mp)))*a**(13./2.)\n",
    "Kepler93b_timescale = Kepler93b_timescale/(86400.*365.*(10.**6.)) #sec to Myr\n",
    "\n",
    "print Kepler93b_timescale\n"
   ]
  },
  {
   "cell_type": "code",
   "execution_count": null,
   "metadata": {},
   "outputs": [],
   "source": []
  }
 ],
 "metadata": {
  "kernelspec": {
   "display_name": "Python 2",
   "language": "python",
   "name": "python2"
  },
  "language_info": {
   "codemirror_mode": {
    "name": "ipython",
    "version": 2
   },
   "file_extension": ".py",
   "mimetype": "text/x-python",
   "name": "python",
   "nbconvert_exporter": "python",
   "pygments_lexer": "ipython2",
   "version": "2.7.14"
  }
 },
 "nbformat": 4,
 "nbformat_minor": 2
}
